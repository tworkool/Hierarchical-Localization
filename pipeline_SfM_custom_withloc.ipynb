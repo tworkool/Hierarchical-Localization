{
 "cells": [
  {
   "cell_type": "code",
   "execution_count": null,
   "metadata": {},
   "outputs": [],
   "source": [
    "%load_ext autoreload\n",
    "%autoreload 2\n",
    "\n",
    "from pathlib import Path\n",
    "import sys\n",
    "import shutil\n",
    "\n",
    "from hloc import (\n",
    "    extract_features,\n",
    "    match_features,\n",
    "    match_dense,\n",
    "    reconstruction,\n",
    "    visualization,\n",
    "    pairs_from_all,\n",
    "    localize_sfm,\n",
    "    pairs_from_exhaustive\n",
    ")\n",
    "\n",
    "ROOT = Path().absolute()\n",
    "# add root to path in order to execute scripts\n",
    "if str(ROOT) not in sys.path:\n",
    "  sys.path.append(str(ROOT))"
   ]
  },
  {
   "cell_type": "code",
   "execution_count": null,
   "metadata": {},
   "outputs": [],
   "source": [
    "DATASET = Path(\"datasets/framlingham2\")\n",
    "\n",
    "IMAGES = DATASET / \"images\"\n",
    "QUERY_IMAGES = DATASET / \"query\"\n",
    "QUERY_IMAGE = QUERY_IMAGES / \"img.png\" # img that will be localized\n",
    "\n",
    "OUT = Path(\"outputs/sfm/\")\n",
    "SFM_PAIRS = OUT / \"pairs.txt\"\n",
    "SFM_DIR = OUT / \"framlingham_s2d+nn\"\n",
    "\n",
    "# retrieval_conf = extract_features.confs[\"netvlad\"]\n",
    "feature_conf = extract_features.confs[\"s2dnet\"]\n",
    "matcher_conf = match_features.confs[\"NN-ratio\"]\n",
    "# matcher_conf = match_dense.confs[\"loftr\"]"
   ]
  },
  {
   "cell_type": "code",
   "execution_count": null,
   "metadata": {},
   "outputs": [],
   "source": [
    "pairs_from_all.main(SFM_PAIRS, IMAGES)"
   ]
  },
  {
   "cell_type": "code",
   "execution_count": null,
   "metadata": {},
   "outputs": [],
   "source": [
    "feature_path = extract_features.main(feature_conf, IMAGES, SFM_DIR)\n",
    "#feature_path = Path(outputs, feature_conf[\"output\"] + \".h5\")"
   ]
  },
  {
   "cell_type": "code",
   "execution_count": null,
   "metadata": {},
   "outputs": [],
   "source": [
    "match_path = match_features.main(\n",
    "    conf=matcher_conf,\n",
    "    pairs=SFM_PAIRS,\n",
    "    features=feature_conf[\"output\"],\n",
    "    export_dir=OUT,\n",
    ")\n",
    "\n",
    "\"\"\"\n",
    "feature_path, match_path = match_dense.main(\n",
    "  conf=matcher_conf, \n",
    "  pairs=sfm_pairs, \n",
    "  image_dir=images, \n",
    "  export_dir=outputs,\n",
    "  features_ref=feature_path\n",
    ")\n",
    "\"\"\""
   ]
  },
  {
   "cell_type": "markdown",
   "metadata": {},
   "source": [
    "## 3D reconstruction\n",
    "Run COLMAP on the features and matches."
   ]
  },
  {
   "cell_type": "code",
   "execution_count": null,
   "metadata": {
    "scrolled": true
   },
   "outputs": [],
   "source": [
    "model = reconstruction.main(SFM_DIR, IMAGES, SFM_PAIRS, feature_path, match_path)"
   ]
  },
  {
   "cell_type": "code",
   "execution_count": null,
   "metadata": {},
   "outputs": [],
   "source": [
    "from third_party.Neuralangelo.convert_data_to_json import data_to_json\n",
    "\n",
    "args = {\n",
    "  \"data_dir\": str(SFM_DIR.absolute()),\n",
    "  \"scene_type\": \"outdoor\",\n",
    "  \"image_dir\": str(IMAGES.absolute()),\n",
    "}\n",
    "\n",
    "data_to_json(args)\n",
    "\n",
    "SFM_IMAGES = SFM_DIR / \"images\"\n",
    "if not SFM_IMAGES.exists():\n",
    "  # copy files from input images to self contained project path\n",
    "  # os.mkdir(new_input_path)\n",
    "  print(\"copied input images to self contained SfM reconstruction folder\")\n",
    "  shutil.copytree(IMAGES, SFM_IMAGES)"
   ]
  },
  {
   "cell_type": "code",
   "execution_count": null,
   "metadata": {},
   "outputs": [],
   "source": [
    "\"\"\"\n",
    "localize_sfm.main(\n",
    "    sfm_dir,\n",
    "    dataset / \"queries/*_time_queries_with_intrinsics.txt\",\n",
    "    loc_pairs,\n",
    "    features,\n",
    "    loc_matches,\n",
    "    results,\n",
    "    covisibility_clustering=False,\n",
    ")  # not required with SuperPoint+SuperGlue\n",
    "\"\"\"\n",
    "\n",
    "# https://colab.research.google.com/drive/1MrVs9b8aQYODtOGkoaGNF9Nji3sbCNMQ#scrollTo=74f07f86\n",
    "\n",
    "# register new QUERY_IMAGE\n",
    "references_registered = [model.images[i].name for i in model.reg_image_ids()]\n",
    "extract_features.main(\n",
    "    feature_conf,\n",
    "    IMAGES,\n",
    "    image_list=QUERY_IMAGES,\n",
    "    feature_path=feature_path,\n",
    "    overwrite=True,\n",
    ")\n",
    "pairs_from_exhaustive.main(\n",
    "    SFM_PAIRS, image_list=QUERY_IMAGES, ref_list=references_registered\n",
    ")\n",
    "match_features.main(\n",
    "    matcher_conf, SFM_PAIRS, features=feature_path, matches=match_path, overwrite=True\n",
    ")\n",
    "\n",
    "import pycolmap\n",
    "from hloc.localize_sfm import QueryLocalizer, pose_from_cluster\n",
    "\n",
    "camera = pycolmap.infer_camera_from_image(QUERY_IMAGE)\n",
    "ref_ids = [model.find_image_with_name(n).image_id for n in references_registered]\n",
    "conf = {\n",
    "    \"estimation\": {\"ransac\": {\"max_error\": 12}},\n",
    "    \"refinement\": {\"refine_focal_length\": True, \"refine_extra_params\": True},\n",
    "}\n",
    "localizer = QueryLocalizer(model, conf)\n",
    "ret, log = pose_from_cluster(\n",
    "    localizer, QUERY_IMAGE, camera, ref_ids, feature_path, match_path\n",
    ")\n",
    "\n",
    "print(f'found {ret[\"num_inliers\"]}/{len(ret[\"inliers\"])} inlier correspondences.')\n",
    "visualization.visualize_loc_from_log(IMAGES, QUERY_IMAGE, log, model)"
   ]
  },
  {
   "cell_type": "markdown",
   "metadata": {},
   "source": [
    "## Visualization\n",
    "We visualize some of the registered images, and color their keypoint by visibility, track length, or triangulated depth."
   ]
  },
  {
   "cell_type": "code",
   "execution_count": null,
   "metadata": {},
   "outputs": [],
   "source": [
    "#visualization.visualize_sfm_2d(model, images, color_by=\"visibility\", n=5)"
   ]
  },
  {
   "cell_type": "code",
   "execution_count": null,
   "metadata": {},
   "outputs": [],
   "source": [
    "#visualization.visualize_sfm_2d(model, images, color_by=\"track_length\", n=5)"
   ]
  },
  {
   "cell_type": "code",
   "execution_count": null,
   "metadata": {},
   "outputs": [],
   "source": [
    "#visualization.visualize_sfm_2d(model, images, color_by=\"depth\", n=5)"
   ]
  }
 ],
 "metadata": {
  "kernelspec": {
   "display_name": "Python 3 (ipykernel)",
   "language": "python",
   "name": "python3"
  },
  "language_info": {
   "codemirror_mode": {
    "name": "ipython",
    "version": 3
   },
   "file_extension": ".py",
   "mimetype": "text/x-python",
   "name": "python",
   "nbconvert_exporter": "python",
   "pygments_lexer": "ipython3",
   "version": "3.9.19"
  }
 },
 "nbformat": 4,
 "nbformat_minor": 4
}
