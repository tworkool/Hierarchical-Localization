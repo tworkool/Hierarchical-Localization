{
 "cells": [
  {
   "cell_type": "code",
   "execution_count": 7,
   "metadata": {},
   "outputs": [
    {
     "name": "stdout",
     "output_type": "stream",
     "text": [
      "The autoreload extension is already loaded. To reload it, use:\n",
      "  %reload_ext autoreload\n"
     ]
    }
   ],
   "source": [
    "%load_ext autoreload\n",
    "%autoreload 2\n",
    "\n",
    "from pathlib import Path\n",
    "import sys\n",
    "import shutil\n",
    "\n",
    "ROOT = Path(__file__).parent.resolve()\n",
    "# add root to path in order to execute scripts\n",
    "if str(ROOT) not in sys.path:\n",
    "  sys.path.append(str(ROOT))"
   ]
  },
  {
   "cell_type": "code",
   "execution_count": 8,
   "metadata": {},
   "outputs": [],
   "source": [
    "project_path = ROOT / \"hloc/pipelines/Blender_Synthetic/out/LOC-Framlingham+evening_field_8k/LOC-Framlingham+evening_field_8k-TESTER/LOC-Framlingham+evening_field_8k-TESTER\"\n",
    "\n",
    "images = project_path / \"images\"\n",
    "\n",
    "outputs = Path(\"outputs/sfm\")\n",
    "sfm_pairs = outputs / \"pairs.txt\"\n",
    "sfm_dir = outputs / \"test_dbs\"\n",
    "sfm_images = sfm_dir / \"images\""
   ]
  },
  {
   "cell_type": "code",
   "execution_count": 18,
   "metadata": {},
   "outputs": [
    {
     "name": "stdout",
     "output_type": "stream",
     "text": [
      "Fraction of images looking at the center: 0.00.\n",
      "Fraction of images positioned around the center: 1.00.\n",
      "Valid fraction of concentric images: 0.00.\n",
      "frame reprojection error for image ID 3: 1.132\n",
      "frame reprojection error for image ID 10: 1.132\n",
      "Writing data to json file: /mnt/d/dev/python/Hierarchical-Localization/outputs/sfm/test_dbs/transforms.json\n",
      "copied input images to self contained SfM reconstruction folder\n"
     ]
    }
   ],
   "source": [
    "from third_party.Neuralangelo.convert_data_to_json import data_to_json\n",
    "\n",
    "args = {\n",
    "  \"data_dir\": str(project_path.resolve()),\n",
    "  \"scene_type\": \"outdoor\",\n",
    "  \"image_dir\": str(images.resolve()),\n",
    "}\n",
    "\n",
    "data_to_json(args)\n",
    "\"\"\"\n",
    "if not sfm_images.exists():\n",
    "  # copy files from input images to self contained project path\n",
    "  # os.mkdir(new_input_path)\n",
    "  print(\"copied input images to self contained SfM reconstruction folder\")\n",
    "  shutil.copytree(images, sfm_images)\n",
    "\"\"\""
   ]
  }
 ],
 "metadata": {
  "kernelspec": {
   "display_name": "Python 3 (ipykernel)",
   "language": "python",
   "name": "python3"
  },
  "language_info": {
   "codemirror_mode": {
    "name": "ipython",
    "version": 3
   },
   "file_extension": ".py",
   "mimetype": "text/x-python",
   "name": "python",
   "nbconvert_exporter": "python",
   "pygments_lexer": "ipython3",
   "version": "3.9.-1"
  }
 },
 "nbformat": 4,
 "nbformat_minor": 4
}
