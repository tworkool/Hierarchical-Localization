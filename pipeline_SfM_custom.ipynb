{
 "cells": [
  {
   "cell_type": "code",
   "execution_count": null,
   "metadata": {},
   "outputs": [],
   "source": [
    "%load_ext autoreload\n",
    "%autoreload 2\n",
    "\n",
    "from pathlib import Path\n",
    "import sys\n",
    "import shutil\n",
    "\n",
    "from hloc import (\n",
    "    extract_features,\n",
    "    match_features,\n",
    "    match_dense,\n",
    "    reconstruction,\n",
    "    visualization,\n",
    "    pairs_from_all,\n",
    "    localize_sfm\n",
    ")\n",
    "\n",
    "ROOT = Path().absolute()\n",
    "# add root to path in order to execute scripts\n",
    "if str(ROOT) not in sys.path:\n",
    "  sys.path.append(str(ROOT))"
   ]
  },
  {
   "cell_type": "code",
   "execution_count": null,
   "metadata": {},
   "outputs": [],
   "source": [
    "images = Path(\"datasets/framlingham2/images/\")\n",
    "\n",
    "outputs = Path(\"outputs/sfm/\")\n",
    "sfm_pairs = outputs / \"pairs.txt\"\n",
    "sfm_dir = outputs / \"framlingham_s2d_nn\"\n",
    "sfm_images = sfm_dir / \"images\"\n",
    "\n",
    "# retrieval_conf = extract_features.confs[\"netvlad\"]\n",
    "feature_conf = extract_features.confs[\"s2dnet\"]\n",
    "matcher_conf = match_features.confs[\"NN-ratio\"]\n",
    "# matcher_conf = match_dense.confs[\"loftr\"]"
   ]
  },
  {
   "cell_type": "code",
   "execution_count": null,
   "metadata": {},
   "outputs": [],
   "source": [
    "pairs_from_all.main(sfm_pairs, images)"
   ]
  },
  {
   "cell_type": "code",
   "execution_count": null,
   "metadata": {},
   "outputs": [],
   "source": [
    "feature_path = extract_features.main(feature_conf, images, outputs)\n",
    "#feature_path = Path(outputs, feature_conf[\"output\"] + \".h5\")"
   ]
  },
  {
   "cell_type": "code",
   "execution_count": null,
   "metadata": {},
   "outputs": [],
   "source": [
    "match_path = match_features.main(\n",
    "    conf=matcher_conf,\n",
    "    pairs=sfm_pairs,\n",
    "    features=feature_conf[\"output\"],\n",
    "    export_dir=outputs,\n",
    ")\n",
    "\n",
    "\"\"\"\n",
    "feature_path, match_path = match_dense.main(\n",
    "  conf=matcher_conf, \n",
    "  pairs=sfm_pairs, \n",
    "  image_dir=images, \n",
    "  export_dir=outputs,\n",
    "  features_ref=feature_path\n",
    ")\n",
    "\"\"\""
   ]
  },
  {
   "cell_type": "markdown",
   "metadata": {},
   "source": [
    "## 3D reconstruction\n",
    "Run COLMAP on the features and matches."
   ]
  },
  {
   "cell_type": "code",
   "execution_count": null,
   "metadata": {
    "scrolled": true
   },
   "outputs": [],
   "source": [
    "model = reconstruction.main(sfm_dir, sfm_images, sfm_pairs, feature_path, match_path)"
   ]
  },
  {
   "cell_type": "code",
   "execution_count": null,
   "metadata": {},
   "outputs": [],
   "source": [
    "'''\n",
    "localize_sfm.main(\n",
    "    sfm_dir,\n",
    "    dataset / \"queries/*_time_queries_with_intrinsics.txt\",\n",
    "    loc_pairs,\n",
    "    features,\n",
    "    loc_matches,\n",
    "    results,\n",
    "    covisibility_clustering=False,\n",
    ")  # not required with SuperPoint+SuperGlue\n",
    "'''"
   ]
  },
  {
   "cell_type": "code",
   "execution_count": null,
   "metadata": {},
   "outputs": [],
   "source": [
    "from third_party.Neuralangelo.convert_data_to_json import data_to_json\n",
    "\n",
    "args = {\n",
    "  \"data_dir\": str(sfm_dir.absolute()),\n",
    "  \"scene_type\": \"outdoor\",\n",
    "  \"image_dir\": str(images.absolute()),\n",
    "}\n",
    "\n",
    "data_to_json(args)\n",
    "\n",
    "if not sfm_images.exists():\n",
    "  # copy files from input images to self contained project path\n",
    "  # os.mkdir(new_input_path)\n",
    "  print(\"copied input images to self contained SfM reconstruction folder\")\n",
    "  shutil.copytree(images, sfm_images)"
   ]
  },
  {
   "cell_type": "markdown",
   "metadata": {},
   "source": [
    "## Visualization\n",
    "We visualize some of the registered images, and color their keypoint by visibility, track length, or triangulated depth."
   ]
  },
  {
   "cell_type": "code",
   "execution_count": null,
   "metadata": {},
   "outputs": [],
   "source": [
    "#visualization.visualize_sfm_2d(model, images, color_by=\"visibility\", n=5)"
   ]
  },
  {
   "cell_type": "code",
   "execution_count": null,
   "metadata": {},
   "outputs": [],
   "source": [
    "#visualization.visualize_sfm_2d(model, images, color_by=\"track_length\", n=5)"
   ]
  },
  {
   "cell_type": "code",
   "execution_count": null,
   "metadata": {},
   "outputs": [],
   "source": [
    "#visualization.visualize_sfm_2d(model, images, color_by=\"depth\", n=5)"
   ]
  }
 ],
 "metadata": {
  "kernelspec": {
   "display_name": "Python 3 (ipykernel)",
   "language": "python",
   "name": "python3"
  },
  "language_info": {
   "codemirror_mode": {
    "name": "ipython",
    "version": 3
   },
   "file_extension": ".py",
   "mimetype": "text/x-python",
   "name": "python",
   "nbconvert_exporter": "python",
   "pygments_lexer": "ipython3",
   "version": "3.9.19"
  }
 },
 "nbformat": 4,
 "nbformat_minor": 4
}
